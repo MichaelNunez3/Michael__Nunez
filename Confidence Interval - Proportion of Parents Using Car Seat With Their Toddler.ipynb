{
 "cells": [
  {
   "cell_type": "markdown",
   "metadata": {},
   "source": [
    "## Confidence Interval - Proportion of Parents Using Car Seat With Their Toddler \n",
    "\n",
    "This confidence interval is calculated using on a data set from the CS Mott Children's Hospital, a hospital-based in Ann Arbor Michigan that frequently performs national polls on children's health.\n",
    "This particular data set is about children's safety precautions that parents use when driving.\n",
    "\n",
    "Research question: what proportion of parents report they use a car seat for all travel with their toddler? \n",
    "\n",
    "Population: Parents with toddler\n",
    "\n",
    "Parameter of interest: A proportion\n",
    "\n",
    "95% confidence - A sample of 659 parents with toddler was taken and asked if they used a car seat for all travel with their toddler\n",
    "540 parents responded ‘yes’ to this question.\n",
    "\n",
    "Based on our sample of 659 parents with toddlers, with 95% confidence, we estimate between 79% and 84.87% of all such parents report they use a car seat for all travel with their toddler. \n",
    "\n",
    "Assumptions:\n",
    "    \n",
    "    - This data set is a simple random sample. \n",
    "    \n",
    "    - Our data set is 'large' enough(at least 10 yes's and no's in our sample) \n"
   ]
  },
  {
   "cell_type": "code",
   "execution_count": 25,
   "metadata": {},
   "outputs": [],
   "source": [
    "import numpy as np"
   ]
  },
  {
   "cell_type": "code",
   "execution_count": 32,
   "metadata": {},
   "outputs": [],
   "source": [
    "#CI manual calculation\n",
    "p = 540/ 659 \n",
    "ZStar = 1.96\n",
    "n= 659\n",
    "SE = np.sqrt( (p*(1-p)/n ))"
   ]
  },
  {
   "cell_type": "code",
   "execution_count": 33,
   "metadata": {},
   "outputs": [
    {
     "data": {
      "text/plain": [
       "(0.7900537499137914, 0.8487929875672404)"
      ]
     },
     "execution_count": 33,
     "metadata": {},
     "output_type": "execute_result"
    }
   ],
   "source": [
    "lb = p - ZStar * SE\n",
    "ub = p + ZStar * SE\n",
    "\n",
    "(lb, ub)\n"
   ]
  },
  {
   "cell_type": "code",
   "execution_count": 34,
   "metadata": {},
   "outputs": [
    {
     "data": {
      "text/plain": [
       "(0.7900542895874294, 0.8487924478936024)"
      ]
     },
     "execution_count": 34,
     "metadata": {},
     "output_type": "execute_result"
    }
   ],
   "source": [
    "# CI automatic calculation\n",
    "import statsmodels.api as sm\n",
    "\n",
    "sm.stats.proportion_confint ( n * p , n )"
   ]
  },
  {
   "cell_type": "markdown",
   "metadata": {},
   "source": [
    "## Interpretation:\n",
    "#### Based on our sample of 659 parents with toddlers, with 95% confidence, we estimate between 79% and 84.87% of all such parents report they use a car seat for all travel with their toddler"
   ]
  },
  {
   "cell_type": "code",
   "execution_count": null,
   "metadata": {},
   "outputs": [],
   "source": []
  }
 ],
 "metadata": {
  "kernelspec": {
   "display_name": "Python 3",
   "language": "python",
   "name": "python3"
  },
  "language_info": {
   "codemirror_mode": {
    "name": "ipython",
    "version": 3
   },
   "file_extension": ".py",
   "mimetype": "text/x-python",
   "name": "python",
   "nbconvert_exporter": "python",
   "pygments_lexer": "ipython3",
   "version": "3.8.5"
  }
 },
 "nbformat": 4,
 "nbformat_minor": 4
}
